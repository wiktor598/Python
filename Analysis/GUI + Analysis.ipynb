{
 "cells": [
  {
   "cell_type": "code",
   "execution_count": 14,
   "metadata": {},
   "outputs": [
    {
     "data": {
      "text/plain": [
       "<__main__.GUIAnalysis at 0x7fd202aa6980>"
      ]
     },
     "execution_count": 14,
     "metadata": {},
     "output_type": "execute_result"
    }
   ],
   "source": [
    "import pandas as pd\n",
    "import tkinter as tk\n",
    "from tkinter import messagebox\n",
    "\n",
    "class GUIAnalysis:\n",
    "        \n",
    "    def __init__(self):\n",
    "        DF = pd.read_csv(\"Data.csv\", encoding='utf-8')\n",
    "        %matplotlib inline \n",
    "\n",
    "        self.root = tk.Tk()\n",
    "\n",
    "        self.label = tk.Label(self.root, text=\"Data Analysis\", font=('Arial', 18))\n",
    "        self.label.pack(padx=10, pady=10)\n",
    "\n",
    "\n",
    "        self.label = tk.Label(self.root, text=\"Output\", font=('Arial', 18))\n",
    "        self.label.pack()\n",
    "        self.textbox = tk.Text(self.root, height=5)\n",
    "        self.textbox.pack(padx=10,pady=10)\n",
    "\n",
    "\n",
    "        \n",
    "        self.button = tk.Button(self.root, text=\"Query\", font=('Arial', 18))\n",
    "        self.button.pack(padx=10, pady=10)\n",
    "\n",
    "\n",
    "\n",
    "\n",
    "\n",
    "\n",
    "\n",
    "        self.root.mainloop()\n",
    "\n",
    "        def show_result(self):\n",
    "\n",
    "            \n",
    "\n",
    "\n",
    "GUIAnalysis()\n",
    "\n"
   ]
  }
 ],
 "metadata": {
  "kernelspec": {
   "display_name": "Python 3",
   "language": "python",
   "name": "python3"
  },
  "language_info": {
   "codemirror_mode": {
    "name": "ipython",
    "version": 3
   },
   "file_extension": ".py",
   "mimetype": "text/x-python",
   "name": "python",
   "nbconvert_exporter": "python",
   "pygments_lexer": "ipython3",
   "version": "3.10.10 (main, Mar  5 2023, 22:26:53) [GCC 12.2.1 20230201]"
  },
  "orig_nbformat": 4,
  "vscode": {
   "interpreter": {
    "hash": "e7370f93d1d0cde622a1f8e1c04877d8463912d04d973331ad4851f04de6915a"
   }
  }
 },
 "nbformat": 4,
 "nbformat_minor": 2
}
