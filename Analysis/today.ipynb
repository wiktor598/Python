{
 "cells": [
  {
   "cell_type": "code",
   "execution_count": 8,
   "metadata": {},
   "outputs": [
    {
     "data": {
      "text/html": [
       "<div>\n",
       "<style scoped>\n",
       "    .dataframe tbody tr th:only-of-type {\n",
       "        vertical-align: middle;\n",
       "    }\n",
       "\n",
       "    .dataframe tbody tr th {\n",
       "        vertical-align: top;\n",
       "    }\n",
       "\n",
       "    .dataframe thead th {\n",
       "        text-align: right;\n",
       "    }\n",
       "</style>\n",
       "<table border=\"1\" class=\"dataframe\">\n",
       "  <thead>\n",
       "    <tr style=\"text-align: right;\">\n",
       "      <th></th>\n",
       "      <th>Index</th>\n",
       "      <th>User Id</th>\n",
       "      <th>First Name</th>\n",
       "      <th>Last Name</th>\n",
       "      <th>Sex</th>\n",
       "      <th>Email</th>\n",
       "      <th>Phone</th>\n",
       "      <th>Date of birth</th>\n",
       "      <th>Job Title</th>\n",
       "    </tr>\n",
       "  </thead>\n",
       "  <tbody>\n",
       "    <tr>\n",
       "      <th>44</th>\n",
       "      <td>45</td>\n",
       "      <td>5F2f3fAca8B0946</td>\n",
       "      <td>Darren</td>\n",
       "      <td>Andrews</td>\n",
       "      <td>Male</td>\n",
       "      <td>lhernandez@example.com</td>\n",
       "      <td>(975)799-4261</td>\n",
       "      <td>1997-10-04</td>\n",
       "      <td>Retail banker</td>\n",
       "    </tr>\n",
       "    <tr>\n",
       "      <th>61</th>\n",
       "      <td>62</td>\n",
       "      <td>Ed724605A403D91</td>\n",
       "      <td>Kelli</td>\n",
       "      <td>Garner</td>\n",
       "      <td>Male</td>\n",
       "      <td>jodyvincent@example.org</td>\n",
       "      <td>995.000.4213x0982</td>\n",
       "      <td>2010-01-17</td>\n",
       "      <td>Retail banker</td>\n",
       "    </tr>\n",
       "  </tbody>\n",
       "</table>\n",
       "</div>"
      ],
      "text/plain": [
       "    Index          User Id First Name Last Name   Sex  \\\n",
       "44     45  5F2f3fAca8B0946     Darren   Andrews  Male   \n",
       "61     62  Ed724605A403D91      Kelli    Garner  Male   \n",
       "\n",
       "                      Email              Phone Date of birth      Job Title  \n",
       "44   lhernandez@example.com      (975)799-4261    1997-10-04  Retail banker  \n",
       "61  jodyvincent@example.org  995.000.4213x0982    2010-01-17  Retail banker  "
      ]
     },
     "execution_count": 8,
     "metadata": {},
     "output_type": "execute_result"
    }
   ],
   "source": [
    "import pandas as pd\n",
    "from tkinter import *\n",
    "\n",
    "\n",
    "df = pd.read_csv('Data.csv', encoding='utf-8')\n",
    "%matplotlib inline \n",
    "\n",
    "\n",
    "\n",
    "#df['Sex'].value_counts().plot(kind='bar', figsize=(7,7))\n",
    "\n",
    "\n",
    "Qualified = df[df['Job Title'] == 'Retail banker']   # displays all profiles of only retail bankers\n",
    "Qualified.head()\n",
    "\n",
    "\n",
    "#df.plot(kind= 'scatter', x = 'Sex', y ='Job Title') #plots sex and job title a s ascatter graph  \n",
    "#plt.show()\n",
    "\n",
    "\n",
    "\n",
    "\n"
   ]
  }
 ],
 "metadata": {
  "kernelspec": {
   "display_name": "Python 3",
   "language": "python",
   "name": "python3"
  },
  "language_info": {
   "codemirror_mode": {
    "name": "ipython",
    "version": 3
   },
   "file_extension": ".py",
   "mimetype": "text/x-python",
   "name": "python",
   "nbconvert_exporter": "python",
   "pygments_lexer": "ipython3",
   "version": "3.10.10 (main, Mar  5 2023, 22:26:53) [GCC 12.2.1 20230201]"
  },
  "orig_nbformat": 4,
  "vscode": {
   "interpreter": {
    "hash": "e7370f93d1d0cde622a1f8e1c04877d8463912d04d973331ad4851f04de6915a"
   }
  }
 },
 "nbformat": 4,
 "nbformat_minor": 2
}
